{
 "cells": [
  {
   "cell_type": "code",
   "execution_count": null,
   "metadata": {},
   "outputs": [],
   "source": [
    "import pandas as pd\n",
    "import numpy as  np\n",
    "from sklearn import model_selection\n",
    "from sklearn.model_selection import train_test_split\n",
    "from sklearn.preprocessing import StandardScaler, Normalizer"
   ]
  },
  {
   "cell_type": "code",
   "execution_count": null,
   "metadata": {},
   "outputs": [],
   "source": [
    "df1 = pd.read_excel(open('D:/PhD_research/NOC_deep_learning/ML_training_data/ML_training_data/Secured_routing_data.xlsx', 'rb'), sheet_name = 'mesh_4vc_pkt_cnt', dtype = float)\n",
    "df1 = pd.DataFrame(df1.transpose())\n",
    "\n",
    "y = pd.DataFrame(df1.index, columns=['labels'])\n",
    "X = df1.set_index(pd.Index([0,1,2,3,4,5,6,7,8,9,10,11]))\n",
    "df1 = pd.concat([X, y], axis = 1)\n",
    "df1.shape\n",
    "\n",
    "# df1.drop('labels', axis=1, inplace=True)\n",
    "df1['labels'] = \"mesh1\""
   ]
  },
  {
   "cell_type": "code",
   "execution_count": null,
   "metadata": {},
   "outputs": [],
   "source": [
    "df2 = pd.read_excel(open('D:/PhD_research/NOC_deep_learning/ML_training_data/ML_training_data/Secured_routing_data.xlsx', 'rb'), sheet_name = 'mesh_2vc_pkt_cnt', dtype = float)\n",
    "df2 = pd.DataFrame(df2.transpose())\n",
    "y = pd.DataFrame(df2.index, columns=['labels'])\n",
    "X = df2.set_index(pd.Index([0,1,2,3,4,5,6,7,8,9,10,11]))\n",
    "df2 = pd.concat([X, y], axis = 1)\n",
    "df2.shape\n",
    "df2['labels'] = \"mesh2\""
   ]
  },
  {
   "cell_type": "code",
   "execution_count": null,
   "metadata": {},
   "outputs": [],
   "source": [
    "df3 = pd.read_excel(open('D:/PhD_research/NOC_deep_learning/ML_training_data/ML_training_data/Secured_routing_data.xlsx', 'rb'), sheet_name = 'mesh_6vc_pkt_cnt', dtype = float)\n",
    "df3 = pd.DataFrame(df3.transpose())\n",
    "y = pd.DataFrame(df3.index, columns=['labels'])\n",
    "X = df3.set_index(pd.Index([0,1,2,3,4,5,6,7,8,9,10,11]))\n",
    "df3 = pd.concat([X, y], axis = 1)\n",
    "df3.shape\n",
    "df3['labels'] = \"mesh3\""
   ]
  },
  {
   "cell_type": "code",
   "execution_count": null,
   "metadata": {},
   "outputs": [],
   "source": [
    "df4 = pd.read_excel(open('D:/PhD_research/NOC_deep_learning/ML_training_data/ML_training_data/Secured_routing_data.xlsx', 'rb'), sheet_name = 'foldedtorus_4VC_pkt_cnt', dtype = float)\n",
    "df4 = pd.DataFrame(df4.transpose())\n",
    "y = pd.DataFrame(df4.index, columns=['labels'])\n",
    "X = df4.set_index(pd.Index([0,1,2,3,4,5,6,7,8,9,10,11]))\n",
    "df4 = pd.concat([X, y], axis = 1)\n",
    "df4.shape\n",
    "df4['labels'] = \"torus1\""
   ]
  },
  {
   "cell_type": "code",
   "execution_count": null,
   "metadata": {},
   "outputs": [],
   "source": [
    "df5 = pd.read_excel(open('D:/PhD_research/NOC_deep_learning/ML_training_data/ML_training_data/Secured_routing_data.xlsx', 'rb'), sheet_name = 'torus_4VC_pkt_cnt', dtype = float)\n",
    "df5 = pd.DataFrame(df5.transpose())\n",
    "y = pd.DataFrame(df5.index, columns=['labels'])\n",
    "X = df5.set_index(pd.Index([0,1,2,3,4,5,6,7,8,9,10,11]))\n",
    "df5 = pd.concat([X, y], axis = 1)\n",
    "df5.shape\n",
    "df5['labels'] = \"torus2\""
   ]
  },
  {
   "cell_type": "code",
   "execution_count": null,
   "metadata": {},
   "outputs": [],
   "source": [
    "df6 = pd.read_excel(open('D:/PhD_research/NOC_deep_learning/ML_training_data/ML_training_data/Secured_routing_data.xlsx', 'rb'), sheet_name = 'dcache_mesh_4vc_pkt_cnt', dtype = float)\n",
    "df6 = pd.DataFrame(df6.transpose())\n",
    "y = pd.DataFrame(df6.index, columns=['labels'])\n",
    "X = df6.set_index(pd.Index([0,1,2,3,4,5,6,7,8,9,10,11]))\n",
    "df6 = pd.concat([X, y], axis = 1)\n",
    "df6.shape\n",
    "df6['labels'] = \"dcache\""
   ]
  },
  {
   "cell_type": "markdown",
   "metadata": {},
   "source": [
    "## Second category of inputs ##"
   ]
  },
  {
   "cell_type": "code",
   "execution_count": null,
   "metadata": {},
   "outputs": [],
   "source": [
    "df7 = pd.read_excel(open('D:/PhD_research/NOC_deep_learning/ML_training_data/ML_training_data/Mix_2_secured_training_data.xlsx', 'rb'), sheet_name = 'mesh_4vc_pkt_cnt_mix_2_traffic')\n",
    "df7 = pd.DataFrame(df7.transpose())\n",
    "df7 = df7.reset_index()\n",
    "df7.columns = (list(range(0, 81)))\n",
    "df7.rename(columns={ df7.columns[80]: \"labels\" }, inplace = True)\n",
    "y = df7['labels']\n",
    "X = df7.drop(['labels'], axis = 1)\n",
    "X = X.astype(float)\n",
    "df7 = pd.concat([X, y], axis = 1)\n",
    "df7.shape\n",
    "df7['labels'] = \"mesh1\""
   ]
  },
  {
   "cell_type": "code",
   "execution_count": null,
   "metadata": {},
   "outputs": [],
   "source": [
    "df8 = pd.read_excel(open('D:/PhD_research/NOC_deep_learning/ML_training_data/ML_training_data/Mix_2_secured_training_data.xlsx', 'rb'), sheet_name = 'mesh_2vc_pkt_cnt_mix_2_traffic')\n",
    "df8 = pd.DataFrame(df8.transpose())\n",
    "df8 = df8.reset_index()\n",
    "df8.columns = (list(range(0, 81)))\n",
    "df8.rename(columns={ df8.columns[80]: \"labels\" }, inplace = True)\n",
    "y = df8['labels']\n",
    "X = df8.drop(['labels'], axis = 1)\n",
    "X = X.astype(float)\n",
    "df8 = pd.concat([X, y], axis = 1)\n",
    "df8.shape\n",
    "df8['labels'] = \"mesh2\""
   ]
  },
  {
   "cell_type": "code",
   "execution_count": null,
   "metadata": {},
   "outputs": [],
   "source": [
    "df9 = pd.read_excel(open('D:/PhD_research/NOC_deep_learning/ML_training_data/ML_training_data/Mix_2_secured_training_data.xlsx', 'rb'), sheet_name = 'mesh_6vc_pkt_cnt_mix_2_traffic')\n",
    "df9 = pd.DataFrame(df9.transpose())\n",
    "df9 = df9.reset_index()\n",
    "df9.columns = (list(range(0, 81)))\n",
    "df9.rename(columns={ df9.columns[80]: \"labels\" }, inplace = True)\n",
    "y = df9['labels']\n",
    "X = df9.drop(['labels'], axis = 1)\n",
    "X = X.astype(float)\n",
    "df9 = pd.concat([X, y], axis = 1)\n",
    "df9.shape\n",
    "df9['labels'] = \"mesh3\""
   ]
  },
  {
   "cell_type": "code",
   "execution_count": null,
   "metadata": {},
   "outputs": [],
   "source": [
    "df10 = pd.read_excel(open('D:/PhD_research/NOC_deep_learning/ML_training_data/ML_training_data/Mix_2_secured_training_data.xlsx', 'rb'), sheet_name = 'foldedtorus_4vc_mix_2_traffic')\n",
    "df10 = pd.DataFrame(df10.transpose())\n",
    "df10 = df10.reset_index()\n",
    "df10.columns = (list(range(0, 81)))\n",
    "df10.rename(columns={ df10.columns[80]: \"labels\" }, inplace = True)\n",
    "y = df10['labels']\n",
    "X = df10.drop(['labels'], axis = 1)\n",
    "X = X.astype(float)\n",
    "df10 = pd.concat([X, y], axis = 1)\n",
    "df10.shape\n",
    "df10['labels'] = \"torus1\""
   ]
  },
  {
   "cell_type": "code",
   "execution_count": null,
   "metadata": {},
   "outputs": [],
   "source": [
    "df11 = pd.read_excel(open('D:/PhD_research/NOC_deep_learning/ML_training_data/ML_training_data/Mix_2_secured_training_data.xlsx', 'rb'), sheet_name = 'torus_4vc_mix_2_traffic')\n",
    "df11 = pd.DataFrame(df11.transpose())\n",
    "df11 = df11.reset_index()\n",
    "df11.columns = (list(range(0, 81)))\n",
    "df11.rename(columns={ df11.columns[80]: \"labels\" }, inplace = True)\n",
    "y = df11['labels']\n",
    "X = df11.drop(['labels'], axis = 1)\n",
    "X = X.astype(float)\n",
    "df11 = pd.concat([X, y], axis = 1)\n",
    "df11.shape\n",
    "df11['labels'] = \"torus2\""
   ]
  },
  {
   "cell_type": "code",
   "execution_count": null,
   "metadata": {},
   "outputs": [],
   "source": [
    "df12 = pd.read_excel(open('D:/PhD_research/NOC_deep_learning/ML_training_data/ML_training_data/Mix_2_secured_training_data.xlsx', 'rb'), sheet_name = 'dcache_mesh_4vc_mix_2_traffic')\n",
    "df12 = pd.DataFrame(df12.transpose())\n",
    "df12 = df12.reset_index()\n",
    "df12.columns = (list(range(0, 81)))\n",
    "df12.rename(columns={ df12.columns[80]: \"labels\" }, inplace = True)\n",
    "y = df12['labels']\n",
    "X = df12.drop(['labels'], axis = 1)\n",
    "X = X.astype(float)\n",
    "df12 = pd.concat([X, y], axis = 1)\n",
    "df12.shape\n",
    "df12['labels'] = \"dcache\""
   ]
  },
  {
   "cell_type": "code",
   "execution_count": null,
   "metadata": {},
   "outputs": [],
   "source": [
    "df = df1.append(df2)\n",
    "df = df.append(df3)\n",
    "df = df.append(df4)\n",
    "df = df.append(df5)\n",
    "df = df.append(df6)\n",
    "df = df.append(df7)\n",
    "df = df.append(df8)\n",
    "df = df.append(df9)\n",
    "df = df.append(df10)\n",
    "df = df.append(df11)\n",
    "df = df.append(df12)\n",
    "df.reset_index(drop=True, inplace=True)\n",
    "\n",
    "# from sklearn.preprocessing import LabelEncoder\n",
    "# le = LabelEncoder()\n",
    "# df['labels'] = le.fit_transform(df['labels'])\n",
    "# df_main = df\n",
    "\n",
    "# from sklearn.preprocessing import OneHotEncoder\n",
    "# enc = OneHotEncoder(handle_unknown = 'ignore')\n",
    "# df_enc = pd.DataFrame(enc.fit_transform(df[['labels']]).toarray())\n",
    "# df = df.join(other= lsuffix='labels')\n",
    "# y_train = df_enc\n",
    "df_main = df"
   ]
  },
  {
   "cell_type": "code",
   "execution_count": null,
   "metadata": {},
   "outputs": [],
   "source": [
    "target = df['labels']\n",
    "df = df.drop(['labels'], axis = 1)"
   ]
  },
  {
   "cell_type": "code",
   "execution_count": null,
   "metadata": {},
   "outputs": [],
   "source": [
    "def randompacketgen(p = 0.99, n=5000, returnvectorsize = 80):\n",
    "    # p is probability of success (for us it it roughly 1 - injectionload)\n",
    "    from scipy.stats import nbinom\n",
    "    return [int(nbinom.rvs(n, p, loc=0, size=1, random_state=None)//8) for i in range(returnvectorsize)]"
   ]
  },
  {
   "cell_type": "code",
   "execution_count": null,
   "metadata": {},
   "outputs": [],
   "source": [
    "def generate_data():\n",
    "    frame = []\n",
    "    for i in range(468):\n",
    "        x=np.array(randompacketgen())\n",
    "        x_noise=x.T\n",
    "        frame.append(x_noise)\n",
    "    return frame \n",
    "    #df.drop(columns=['index'])\n",
    "    #df['labels'].iloc[78]=y[0]"
   ]
  },
  {
   "cell_type": "code",
   "execution_count": null,
   "metadata": {},
   "outputs": [],
   "source": [
    "def append_data(data, target):   \n",
    "    gen_with_labels = pd.concat([data, target], axis = 1)\n",
    "    return gen_with_labels"
   ]
  },
  {
   "cell_type": "code",
   "execution_count": null,
   "metadata": {},
   "outputs": [],
   "source": [
    "def add_to_original(gen_data, df):\n",
    "    df = pd.concat([df, gen_data], axis = 0)\n",
    "    return df"
   ]
  },
  {
   "cell_type": "code",
   "execution_count": null,
   "metadata": {},
   "outputs": [],
   "source": [
    "def add_noise(data, df):\n",
    "    gen_data = pd.DataFrame(data)\n",
    "    noise_data = df.add(gen_data)\n",
    "    return noise_data"
   ]
  },
  {
   "cell_type": "code",
   "execution_count": null,
   "metadata": {},
   "outputs": [],
   "source": [
    "from tqdm.notebook import trange, tqdm\n",
    "for i in trange(500, desc='Generating Data: '):\n",
    "    data = generate_data()\n",
    "    noise_data = add_noise(data, df)\n",
    "    gen_data = append_data(noise_data, target)\n",
    "    df_main = add_to_original(gen_data, df_main)"
   ]
  },
  {
   "cell_type": "code",
   "execution_count": null,
   "metadata": {},
   "outputs": [],
   "source": [
    "df= df_main"
   ]
  },
  {
   "cell_type": "code",
   "execution_count": null,
   "metadata": {},
   "outputs": [],
   "source": [
    "df.to_excel(r'D:/PhD_research/NOC_deep_learning/ML_training_data/ML_training_data/architecture_save_df/combo_2_traffic_one_hot.xlsx')"
   ]
  },
  {
   "cell_type": "code",
   "execution_count": null,
   "metadata": {},
   "outputs": [],
   "source": [
    "import pandas as pd\n",
    "df = pd.read_excel(open('D:/PhD_research/NOC_deep_learning/ML_training_data/ML_training_data/architecture_save_df/combo_2_traffic_one_hot.xlsx', 'rb'))"
   ]
  },
  {
   "cell_type": "code",
   "execution_count": null,
   "metadata": {
    "scrolled": true
   },
   "outputs": [],
   "source": [
    "df"
   ]
  },
  {
   "cell_type": "code",
   "execution_count": null,
   "metadata": {},
   "outputs": [],
   "source": [
    "df.shape"
   ]
  },
  {
   "cell_type": "code",
   "execution_count": null,
   "metadata": {
    "scrolled": false
   },
   "outputs": [],
   "source": [
    "# le = LabelEncoder()\n",
    "# df['labels'] = le.fit_transform(df['labels'])\n",
    "# # print(df['labels'])\n",
    "\n",
    "# onehot_encoder = OneHotEncoder(sparse=False)\n",
    "# integer_encoded = integer_encoded.reshape(len(df.labels), 1)\n",
    "# onehot_encoded = onehot_encoder.fit_transform(integer_encoded)\n",
    "# print(onehot_encoded)\n",
    "\n",
    "from sklearn.preprocessing import LabelBinarizer \n",
    "lb = LabelBinarizer()\n",
    "onehot_encoded = lb.fit_transform(df.labels.values)\n",
    "print(onehot_encoded)"
   ]
  },
  {
   "cell_type": "code",
   "execution_count": null,
   "metadata": {},
   "outputs": [],
   "source": [
    "y = pd.DataFrame(onehot_encoded)\n",
    "print(y.shape)"
   ]
  },
  {
   "cell_type": "code",
   "execution_count": null,
   "metadata": {},
   "outputs": [],
   "source": [
    "# y = df['labels']\n",
    "X = df.drop(['labels'], axis = 1)\n",
    "print(X.shape)"
   ]
  },
  {
   "cell_type": "code",
   "execution_count": null,
   "metadata": {},
   "outputs": [],
   "source": [
    "from sklearn.model_selection import train_test_split\n",
    "X_train, X_test, y_train, y_test = train_test_split(X, y, test_size = 0.4, random_state=42)"
   ]
  },
  {
   "cell_type": "code",
   "execution_count": null,
   "metadata": {},
   "outputs": [],
   "source": [
    "print(X_train.shape)\n",
    "print(X_test.shape)\n",
    "print(y_train.shape)\n",
    "print(y_test.shape)"
   ]
  },
  {
   "cell_type": "code",
   "execution_count": null,
   "metadata": {},
   "outputs": [],
   "source": [
    "corr_matrix = X_train.corr().abs()\n",
    "upper = corr_matrix.where(np.triu(np.ones(corr_matrix.shape), k=1).astype(np.bool))\n",
    "to_drop = [column for column in upper.columns if any(upper[column] > 0.40)]\n",
    "\n",
    "print(to_drop)\n",
    "saved_to_drop = to_drop\n",
    "X_train = X_train.drop(X_train[to_drop], axis=1)\n",
    "X_test = X_test.drop(X_test[to_drop], axis=1)\n",
    "\n",
    "print(X_train.shape)\n",
    "print(X_test.shape)\n",
    "print(y_train.shape)\n",
    "print(y_test.shape)"
   ]
  },
  {
   "cell_type": "code",
   "execution_count": null,
   "metadata": {},
   "outputs": [],
   "source": [
    "X_train = np.array(X_train)\n",
    "X_test = np.array(X_test)\n",
    "y_train = np.array(y_train)\n",
    "y_test = np.array(y_test)"
   ]
  },
  {
   "cell_type": "markdown",
   "metadata": {},
   "source": [
    "## Add dimensionality reduction here ##"
   ]
  },
  {
   "cell_type": "code",
   "execution_count": null,
   "metadata": {},
   "outputs": [],
   "source": [
    "from tensorflow import keras\n",
    "from tensorflow.keras import Sequential\n",
    "from tensorflow.keras.layers import Dense, Dropout\n",
    "from sklearn import preprocessing\n",
    "from tensorflow.keras.optimizers import Adadelta, Adam\n",
    "import tensorflow as tf"
   ]
  },
  {
   "cell_type": "code",
   "execution_count": null,
   "metadata": {},
   "outputs": [],
   "source": [
    "model = Sequential()\n",
    "input_shape = X_train[0].shape\n",
    "# initializer = tf.keras.initializers.GlorotNormal()\n",
    "model.add(Dense(units=1000,input_shape=input_shape,activation='sigmoid',kernel_initializer='glorot_normal'))\n",
    "# model.add(Dense(1000, activation='relu'))\n",
    "model.add(Dense(800, activation='sigmoid'))\n",
    "model.add(Dense(500, activation='relu'))\n",
    "model.add(Dense(300, activation='relu'))\n",
    "model.add(Dense(100, activation='relu'))\n",
    "model.add(Dense(50, activation='sigmoid'))\n",
    "model.add(Dense(6, activation='softmax'))\n",
    "# compile the model\n",
    "model.compile(optimizer='adam', loss='categorical_crossentropy',metrics=['accuracy'])\n",
    "# fit the model\n",
    "history=model.fit(X_train, y_train, epochs=25, batch_size=128,validation_split=0.30)"
   ]
  },
  {
   "cell_type": "code",
   "execution_count": null,
   "metadata": {},
   "outputs": [],
   "source": [
    "y_pred = model.predict(X_test)"
   ]
  },
  {
   "cell_type": "code",
   "execution_count": null,
   "metadata": {},
   "outputs": [],
   "source": [
    "y_pred_original = lb.inverse_transform(y_pred)\n",
    "y_test_original = lb.inverse_transform(y_test)"
   ]
  },
  {
   "cell_type": "code",
   "execution_count": null,
   "metadata": {},
   "outputs": [],
   "source": [
    "print(y_test_original)\n",
    "print(y_pred_original)"
   ]
  },
  {
   "cell_type": "code",
   "execution_count": null,
   "metadata": {},
   "outputs": [],
   "source": [
    "from sklearn.metrics import accuracy_score\n",
    "print(accuracy_score(y_test_original, y_pred_original))"
   ]
  },
  {
   "cell_type": "code",
   "execution_count": null,
   "metadata": {},
   "outputs": [],
   "source": [
    "from sklearn.metrics import classification_report\n",
    "report = classification_report(y_test_original, y_pred_original, output_dict=True)\n",
    "result = pd.DataFrame(report).transpose()\n",
    "print(result)"
   ]
  },
  {
   "cell_type": "code",
   "execution_count": null,
   "metadata": {},
   "outputs": [],
   "source": []
  },
  {
   "cell_type": "markdown",
   "metadata": {},
   "source": [
    "## Testing the model on Random proposed routing dataset ## "
   ]
  },
  {
   "cell_type": "code",
   "execution_count": null,
   "metadata": {
    "scrolled": false
   },
   "outputs": [],
   "source": [
    "# df_test_1 = pd.read_excel(open('D:/PhD_research/NOC_deep_learning/ML_training_data/ML_training_data/testing_data/Mix_2_mesh_random_routing_data_alpha_0p005.xlsx', 'rb'), sheet_name = 'mesh_4vc_mix_2_traffic')\n",
    "df_test_1 = pd.read_excel(open('D:/PhD_research/NOC_deep_learning/ML_training_data/ML_training_data/testing_data/Mix_2_mesh_random_routing_data_alpha_0p01.xlsx', 'rb'), sheet_name = 'mesh_4vc_mix_2_traffic')\n",
    "df_test_1 = pd.DataFrame(df_test_1.transpose())\n",
    "df_test_1= df_test_1.reset_index()\n",
    "df_test_1.columns = (list(range(0, 81)))\n",
    "df_test_1.rename(columns={ df_test_1.columns[0]: \"labels\" }, inplace = True)\n",
    "# y_sp_test = df_test_1['labels']\n",
    "# X_sp_test = df_test_1.drop(['labels'], axis = 1)\n",
    "# print(y_sp_test.shape)\n",
    "# print(X_sp_test.shape)\n",
    "y = df_test_1['labels']\n",
    "X = df_test_1.drop(['labels'], axis = 1)\n",
    "# X = X.astype(float)\n",
    "df_test_1 = pd.concat([X, y], axis = 1)\n",
    "df_test_1['labels'] = \"mesh1\"\n",
    "# print(df_test_1)"
   ]
  },
  {
   "cell_type": "code",
   "execution_count": null,
   "metadata": {},
   "outputs": [],
   "source": [
    "# df_test_2 = pd.read_excel(open('D:/PhD_research/NOC_deep_learning/ML_training_data/ML_training_data/testing_data/Mix_2_mesh_random_routing_data_alpha_0p005.xlsx', 'rb'), sheet_name = 'mesh_2vc_mix_2_traffic')\n",
    "df_test_2 = pd.read_excel(open('D:/PhD_research/NOC_deep_learning/ML_training_data/ML_training_data/testing_data/Mix_2_mesh_random_routing_data_alpha_0p01.xlsx', 'rb'), sheet_name = 'mesh_2vc_mix_2_traffic')\n",
    "\n",
    "df_test_2 = pd.DataFrame(df_test_2.transpose())\n",
    "df_test_2= df_test_2.reset_index()\n",
    "df_test_2.columns = (list(range(0, 81)))\n",
    "df_test_2.rename(columns={ df_test_2.columns[0]: \"labels\" }, inplace = True)\n",
    "# y_sp_test = df_test_2['labels']\n",
    "# X_sp_test = df_test_2.drop(['labels'], axis = 1)\n",
    "# print(y_sp_test.shape)\n",
    "# print(X_sp_test.shape)\n",
    "y = df_test_2['labels']\n",
    "X = df_test_2.drop(['labels'], axis = 1)\n",
    "# X = X.astype(float)\n",
    "df_test_2 = pd.concat([X, y], axis = 1)\n",
    "df_test_2['labels'] = \"mesh2\"\n",
    "# print(df_test_2)"
   ]
  },
  {
   "cell_type": "code",
   "execution_count": null,
   "metadata": {},
   "outputs": [],
   "source": [
    "# df_test_3 = pd.read_excel(open('D:/PhD_research/NOC_deep_learning/ML_training_data/ML_training_data/testing_data/Mix_2_mesh_random_routing_data_alpha_0p005.xlsx', 'rb'), sheet_name = 'mesh_6vc_mix_2_traffic')\n",
    "df_test_3 = pd.read_excel(open('D:/PhD_research/NOC_deep_learning/ML_training_data/ML_training_data/testing_data/Mix_2_mesh_random_routing_data_alpha_0p01.xlsx', 'rb'), sheet_name = 'mesh_6vc_mix_2_traffic')\n",
    "\n",
    "df_test_3 = pd.DataFrame(df_test_3.transpose())\n",
    "df_test_3= df_test_3.reset_index()\n",
    "df_test_3.columns = (list(range(0, 81)))\n",
    "df_test_3.rename(columns={ df_test_3.columns[0]: \"labels\" }, inplace = True)\n",
    "# y_sp_test = df_test_3['labels']\n",
    "# X_sp_test = df_test_3.drop(['labels'], axis = 1)\n",
    "# print(y_sp_test.shape)\n",
    "# print(X_sp_test.shape)\n",
    "y = df_test_3['labels']\n",
    "X = df_test_3.drop(['labels'], axis = 1)\n",
    "# X = X.astype(float)\n",
    "df_test_3 = pd.concat([X, y], axis = 1)\n",
    "df_test_3['labels'] = \"mesh3\"\n",
    "# print(df_test_3)"
   ]
  },
  {
   "cell_type": "code",
   "execution_count": null,
   "metadata": {},
   "outputs": [],
   "source": [
    "# df_test_4 = pd.read_excel(open('D:/PhD_research/NOC_deep_learning/ML_training_data/ML_training_data/testing_data/Mix_2_mesh_random_routing_data_alpha_0p005.xlsx', 'rb'), sheet_name = 'foldedtorus_4vc_mix_2_traffic')\n",
    "df_test_4 = pd.read_excel(open('D:/PhD_research/NOC_deep_learning/ML_training_data/ML_training_data/testing_data/Mix_2_mesh_random_routing_data_alpha_0p01.xlsx', 'rb'), sheet_name = 'foldedtorus_4vc_mix_2_traffic')\n",
    "\n",
    "df_test_4 = pd.DataFrame(df_test_4.transpose())\n",
    "df_test_4= df_test_4.reset_index()\n",
    "df_test_4.columns = (list(range(0, 81)))\n",
    "df_test_4.rename(columns={ df_test_4.columns[0]: \"labels\" }, inplace = True)\n",
    "# y_sp_test = df_test_4['labels']\n",
    "# X_sp_test = df_test_4.drop(['labels'], axis = 1)\n",
    "# print(y_sp_test.shape)\n",
    "# print(X_sp_test.shape)\n",
    "y = df_test_4['labels']\n",
    "X = df_test_4.drop(['labels'], axis = 1)\n",
    "# X = X.astype(float)\n",
    "df_test_4 = pd.concat([X, y], axis = 1)\n",
    "df_test_4['labels'] = \"torus1\"\n",
    "# print(df_test_4)"
   ]
  },
  {
   "cell_type": "code",
   "execution_count": null,
   "metadata": {},
   "outputs": [],
   "source": [
    "# df_test_5 = pd.read_excel(open('D:/PhD_research/NOC_deep_learning/ML_training_data/ML_training_data/testing_data/Mix_2_mesh_random_routing_data_alpha_0p005.xlsx', 'rb'), sheet_name = 'torus_4vc_mix_2_traffic')\n",
    "df_test_5 = pd.read_excel(open('D:/PhD_research/NOC_deep_learning/ML_training_data/ML_training_data/testing_data/Mix_2_mesh_random_routing_data_alpha_0p01.xlsx', 'rb'), sheet_name = 'torus_4vc_mix_2_traffic')\n",
    "\n",
    "df_test_5 = pd.DataFrame(df_test_5.transpose())\n",
    "df_test_5= df_test_5.reset_index()\n",
    "df_test_5.columns = (list(range(0, 81)))\n",
    "df_test_5.rename(columns={ df_test_5.columns[0]: \"labels\" }, inplace = True)\n",
    "# y_sp_test = df_test_5['labels']\n",
    "# X_sp_test = df_test_5.drop(['labels'], axis = 1)\n",
    "# print(y_sp_test.shape)\n",
    "# print(X_sp_test.shape)\n",
    "y = df_test_5['labels']\n",
    "X = df_test_5.drop(['labels'], axis = 1)\n",
    "# X = X.astype(float)\n",
    "df_test_5 = pd.concat([X, y], axis = 1)\n",
    "df_test_5['labels'] = \"torus2\"\n",
    "# print(df_test_5)"
   ]
  },
  {
   "cell_type": "code",
   "execution_count": null,
   "metadata": {},
   "outputs": [],
   "source": [
    "# df_test_6 = pd.read_excel(open('D:/PhD_research/NOC_deep_learning/ML_training_data/ML_training_data/testing_data/Mix_2_mesh_random_routing_data_alpha_0p005.xlsx', 'rb'), sheet_name = 'dcache_mesh_4vc_mix_2_traffic')\n",
    "df_test_6 = pd.read_excel(open('D:/PhD_research/NOC_deep_learning/ML_training_data/ML_training_data/testing_data/Mix_2_mesh_random_routing_data_alpha_0p01.xlsx', 'rb'), sheet_name = 'dcache_mesh_4vc_mix_2_traffic')\n",
    "\n",
    "df_test_6 = pd.DataFrame(df_test_6.transpose())\n",
    "df_test_6= df_test_6.reset_index()\n",
    "df_test_6.columns = (list(range(0, 81)))\n",
    "df_test_6.rename(columns={ df_test_6.columns[0]: \"labels\" }, inplace = True)\n",
    "# y_sp_test = df_test_6['labels']\n",
    "# X_sp_test = df_test_6.drop(['labels'], axis = 1)\n",
    "# print(y_sp_test.shape)\n",
    "# print(X_sp_test.shape)\n",
    "y = df_test_6['labels']\n",
    "X = df_test_6.drop(['labels'], axis = 1)\n",
    "# X = X.astype(float)\n",
    "df_test_6 = pd.concat([X, y], axis = 1)\n",
    "df_test_6['labels'] = \"dcache\"\n",
    "# print(df_test_6)"
   ]
  },
  {
   "cell_type": "code",
   "execution_count": null,
   "metadata": {},
   "outputs": [],
   "source": [
    "df_test = df_test_1.append(df_test_2)\n",
    "df_test = df_test.append(df_test_3)\n",
    "df_test = df_test.append(df_test_4)\n",
    "df_test = df_test.append(df_test_5)\n",
    "df_test = df_test.append(df_test_6)\n",
    "# df_test.reset_index(drop=True, inplace=True)"
   ]
  },
  {
   "cell_type": "code",
   "execution_count": null,
   "metadata": {},
   "outputs": [],
   "source": [
    "df_test.shape"
   ]
  },
  {
   "cell_type": "code",
   "execution_count": null,
   "metadata": {},
   "outputs": [],
   "source": [
    "# df_test.to_excel(r'D:/PhD_research/NOC_deep_learning/ML_training_data/ML_training_data/architecture_save_df/combo_2_traffic_one_hot_testing_001.xlsx')"
   ]
  },
  {
   "cell_type": "code",
   "execution_count": null,
   "metadata": {},
   "outputs": [],
   "source": [
    "import pandas as pd\n",
    "df_test = pd.read_excel(open('D:/PhD_research/NOC_deep_learning/ML_training_data/ML_training_data/architecture_save_df/combo_2_traffic_one_hot_testing.xlsx', 'rb'))\n",
    "# df_test = pd.read_excel(open('D:/PhD_research/NOC_deep_learning/ML_training_data/ML_training_data/architecture_save_df/combo_2_traffic_one_hot_testing_001.xlsx', 'rb'))"
   ]
  },
  {
   "cell_type": "code",
   "execution_count": null,
   "metadata": {
    "scrolled": false
   },
   "outputs": [],
   "source": [
    "# from sklearn.preprocessing import LabelBinarizer \n",
    "# lb_test = LabelBinarizer()\n",
    "# onehot_encoded = lb_test.fit_transform(df_test.labels.values)\n",
    "# print(onehot_encoded)"
   ]
  },
  {
   "cell_type": "code",
   "execution_count": null,
   "metadata": {
    "scrolled": true
   },
   "outputs": [],
   "source": [
    "# y_random = pd.DataFrame(onehot_encoded)\n",
    "# print(y_random.shape)\n",
    "y_random = df_test['labels']\n",
    "print(y)"
   ]
  },
  {
   "cell_type": "code",
   "execution_count": null,
   "metadata": {},
   "outputs": [],
   "source": [
    "X_random = df_test.drop(['labels'], axis = 1)\n",
    "print(X_random.shape)"
   ]
  },
  {
   "cell_type": "markdown",
   "metadata": {},
   "source": [
    "## The Feature Reduction happens here "
   ]
  },
  {
   "cell_type": "code",
   "execution_count": null,
   "metadata": {},
   "outputs": [],
   "source": [
    "print(saved_to_drop)\n",
    "print(\"Columns to drop\",len(saved_to_drop))\n",
    "X_random = X_random.drop(X_random[saved_to_drop], axis=1)"
   ]
  },
  {
   "cell_type": "code",
   "execution_count": null,
   "metadata": {},
   "outputs": [],
   "source": [
    "X_random.shape"
   ]
  },
  {
   "cell_type": "code",
   "execution_count": null,
   "metadata": {},
   "outputs": [],
   "source": [
    "y_pred_random = model.predict(X_random)"
   ]
  },
  {
   "cell_type": "code",
   "execution_count": null,
   "metadata": {},
   "outputs": [],
   "source": [
    "y_pred_random"
   ]
  },
  {
   "cell_type": "code",
   "execution_count": null,
   "metadata": {},
   "outputs": [],
   "source": [
    "y_pred_random_original = lb.inverse_transform(y_pred_random)"
   ]
  },
  {
   "cell_type": "code",
   "execution_count": null,
   "metadata": {},
   "outputs": [],
   "source": [
    "# y_pred_random_original"
   ]
  },
  {
   "cell_type": "code",
   "execution_count": null,
   "metadata": {
    "scrolled": true
   },
   "outputs": [],
   "source": [
    "print(y_random)\n",
    "print(y_pred_random_original)"
   ]
  },
  {
   "cell_type": "code",
   "execution_count": null,
   "metadata": {},
   "outputs": [],
   "source": [
    "from sklearn.metrics import accuracy_score\n",
    "print(accuracy_score(y_random, y_pred_random_original))"
   ]
  },
  {
   "cell_type": "code",
   "execution_count": null,
   "metadata": {},
   "outputs": [],
   "source": [
    "from sklearn.metrics import classification_report\n",
    "report = classification_report(y_random, y_pred_random_original, output_dict=True)\n",
    "result = pd.DataFrame(report).transpose()\n",
    "print(result)"
   ]
  },
  {
   "cell_type": "code",
   "execution_count": null,
   "metadata": {},
   "outputs": [],
   "source": []
  },
  {
   "cell_type": "code",
   "execution_count": null,
   "metadata": {},
   "outputs": [],
   "source": []
  }
 ],
 "metadata": {
  "kernelspec": {
   "display_name": "Python 3",
   "language": "python",
   "name": "python3"
  },
  "language_info": {
   "codemirror_mode": {
    "name": "ipython",
    "version": 3
   },
   "file_extension": ".py",
   "mimetype": "text/x-python",
   "name": "python",
   "nbconvert_exporter": "python",
   "pygments_lexer": "ipython3",
   "version": "3.6.5"
  }
 },
 "nbformat": 4,
 "nbformat_minor": 2
}
